{
 "cells": [
  {
   "cell_type": "code",
   "execution_count": 9,
   "id": "01cb9370",
   "metadata": {},
   "outputs": [
    {
     "name": "stdout",
     "output_type": "stream",
     "text": [
      "Input the value of seed, multiplier, increment, modulus and no of random values: \n",
      "Display Random Integer: \n",
      "[27, 2, 77, 52, 27, 2, 77, 52, 27, 2, 77, 52, 27, 2, 77, 52, 27, 2, 77, 52]\n",
      "Display Random Number: \n",
      "[0, 0.02, 0.77, 0.52, 0.27, 0.02, 0.77, 0.52, 0.27, 0.02, 0.77, 0.52, 0.27, 0.02, 0.77, 0.52, 0.27, 0.02, 0.77, 0.52]\n"
     ]
    }
   ],
   "source": [
    "def main():\n",
    "    print(\"Input the value of seed, multiplier, increment, modulus and no of random values: \")\n",
    "    # X0, A, C, M, N = int(input()), int(input()), int(input()), int(input()), int(input())\n",
    "    X0, A, C, M, N = 27, 17, 43, 100, 20\n",
    "    \n",
    "    X, R = LCM(X0, A, C, M, N)\n",
    "    print(\"Display Random Integer: \")\n",
    "    print(X)\n",
    "    \n",
    "    print(\"Display Random Number: \")\n",
    "    print(R)\n",
    "\n",
    "\n",
    "def LCM(X0, A, C, M, N):\n",
    "    X = [0]*N\n",
    "    R = [0]*N\n",
    "    X[0] = X0\n",
    "    \n",
    "    for i in range(N-1):\n",
    "        X[i+1] = (A*X[i] + C) % M\n",
    "        R[i+1] = X[i+1]/M\n",
    "    \n",
    "    return X, R\n",
    "    \n",
    "if __name__ == \"__main__\":\n",
    "    main()\n"
   ]
  },
  {
   "cell_type": "code",
   "execution_count": null,
   "id": "0400acb6",
   "metadata": {},
   "outputs": [],
   "source": []
  }
 ],
 "metadata": {
  "kernelspec": {
   "display_name": "Python 3 (ipykernel)",
   "language": "python",
   "name": "python3"
  },
  "language_info": {
   "codemirror_mode": {
    "name": "ipython",
    "version": 3
   },
   "file_extension": ".py",
   "mimetype": "text/x-python",
   "name": "python",
   "nbconvert_exporter": "python",
   "pygments_lexer": "ipython3",
   "version": "3.10.4"
  }
 },
 "nbformat": 4,
 "nbformat_minor": 5
}
