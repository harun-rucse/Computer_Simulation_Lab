{
 "cells": [
  {
   "cell_type": "code",
   "execution_count": 23,
   "id": "1eda9f13",
   "metadata": {},
   "outputs": [
    {
     "name": "stdout",
     "output_type": "stream",
     "text": [
      "\n",
      "Target caught at distance: 11.446524039165164 and Time: 9\n"
     ]
    }
   ],
   "source": [
    "endt = 12\n",
    "thresh = 12.00\n",
    "vf = 20\n",
    "\n",
    "xf = [0]*endt\n",
    "yf = [0]*endt\n",
    "\n",
    "xf[0] = 0\n",
    "yf[0] = 50\n",
    "\n",
    "xb = [80, 90, 99, 108, 116, 125, 133, 141, 151, 160, 169, 179, 180]\n",
    "yb = [0, -2, -5, -9, -15, -18, -23, -29, -28, -25, -21, -20, -17]\n",
    "\n",
    "caught = False\n",
    "for t in range(endt):\n",
    "    d = (((xb[t]-xf[t])**2) + ((yb[t]-yf[t])**2))**0.5\n",
    "    \n",
    "    if d <= thresh:\n",
    "        print('\\nTarget caught at distance: {} and Time: {}'.format(d, t+1))\n",
    "        caught = True\n",
    "        break\n",
    "    else:\n",
    "        sin_theta = (yb[t]-yf[t])/d\n",
    "        cos_theta = (xb[t]-xf[t])/d\n",
    "        \n",
    "        xf[t+1] = xf[t] + vf*cos_theta\n",
    "        yf[t+1] = yf[t] + vf*sin_theta\n",
    "        \n",
    "if caught == False:\n",
    "    print('Target escaped at {}'.format(t+1))\n",
    "\n",
    "    "
   ]
  },
  {
   "cell_type": "code",
   "execution_count": null,
   "id": "f306b3d2",
   "metadata": {},
   "outputs": [],
   "source": []
  }
 ],
 "metadata": {
  "kernelspec": {
   "display_name": "Python 3 (ipykernel)",
   "language": "python",
   "name": "python3"
  },
  "language_info": {
   "codemirror_mode": {
    "name": "ipython",
    "version": 3
   },
   "file_extension": ".py",
   "mimetype": "text/x-python",
   "name": "python",
   "nbconvert_exporter": "python",
   "pygments_lexer": "ipython3",
   "version": "3.10.4"
  }
 },
 "nbformat": 4,
 "nbformat_minor": 5
}
