{
 "cells": [
  {
   "cell_type": "code",
   "execution_count": 1,
   "id": "676e2f59",
   "metadata": {
    "scrolled": false
   },
   "outputs": [
    {
     "name": "stdout",
     "output_type": "stream",
     "text": [
      "pygame 2.1.2 (SDL 2.0.18, Python 3.10.4)\n",
      "Hello from the pygame community. https://www.pygame.org/contribute.html\n"
     ]
    }
   ],
   "source": [
    "import pygame\n",
    "\n",
    "pygame.init()\n",
    "pygame.display.set_caption(\"Bezier curve\")\n",
    "\n",
    "screenSize = (1000,600)\n",
    "screen = pygame.display.set_mode(screenSize)\n",
    "\n",
    "font = pygame.font.SysFont('arial', 32)\n",
    "\n",
    "position_text1 = font.render(\"P0\", True, (0,0,0), (241,245,249))\n",
    "position_text2 = font.render(\"P1\", True, (0,0,0), (241,245,249))\n",
    "position_text3 = font.render(\"P2\", True, (0,0,0), (241,245,249))\n",
    "position_text4 = font.render(\"P3\", True, (0,0,0), (241,245,249))\n",
    "\n",
    "textRect1 = position_text1.get_rect()\n",
    "textRect2 = position_text2.get_rect()\n",
    "textRect3 = position_text3.get_rect()\n",
    "textRect4 = position_text4.get_rect()\n",
    "\n",
    "control_point = [(100.0, 500.0),(200.0, 100.0),(600.0, 80.0),(650.0, 410.0)]\n",
    "\n",
    "screen.fill((15,23,42))\n",
    "\n",
    "P0 = control_point[0]\n",
    "P1 = control_point[1]\n",
    "P2 = control_point[2]\n",
    "P3 = control_point[3]\n",
    "\n",
    "textRect1.center = P0\n",
    "textRect2.center = P1\n",
    "textRect3.center = P2\n",
    "textRect4.center = P3\n",
    "\n",
    "screen.blit(position_text1,textRect1)\n",
    "screen.blit(position_text2,textRect2)\n",
    "screen.blit(position_text3,textRect3)\n",
    "screen.blit(position_text4,textRect4)\n",
    "\n",
    "pygame.draw.line(screen, (241,245,249), P0, P1, 1)\n",
    "pygame.draw.line(screen, (241,245,249), P2, P3, 1)\n",
    "\n",
    "u = 0\n",
    "Speed = 0.0004\n",
    "\n",
    "while u<1:\n",
    "    u +=Speed\n",
    "        \n",
    "    P0_x = pow((1-u),3) * P0[0]\n",
    "    P0_y = pow((1-u),3) * P0[1]\n",
    "        \n",
    "    P1_x = 3 * u * pow((1-u),2) * P1[0]\n",
    "    P1_y = 3 * u * pow((1-u),2) * P1[1]\n",
    "        \n",
    "    P2_x = 3 * pow(u,2) * (1-u) * P2[0]\n",
    "    P2_y = 3 * pow(u,2) * (1-u) * P2[1]\n",
    "        \n",
    "    P3_x = pow(u,3) * P3[0]\n",
    "    P3_y = pow(u,3) * P3[1]\n",
    "        \n",
    "    x,y = ((P0_x + P1_x + P2_x + P3_x),(P0_y + P1_y + P2_y + P3_y))\n",
    "    \n",
    "    pygame.draw.circle(screen, (241,245,249), (round(x),round(y)), 1)   \n",
    "    pygame.display.flip()\n",
    "    \n",
    "\n",
    "pygame.display.quit()"
   ]
  },
  {
   "cell_type": "code",
   "execution_count": null,
   "id": "20a1991b",
   "metadata": {},
   "outputs": [],
   "source": []
  }
 ],
 "metadata": {
  "kernelspec": {
   "display_name": "Python 3.10.4 64-bit",
   "language": "python",
   "name": "python3"
  },
  "language_info": {
   "codemirror_mode": {
    "name": "ipython",
    "version": 3
   },
   "file_extension": ".py",
   "mimetype": "text/x-python",
   "name": "python",
   "nbconvert_exporter": "python",
   "pygments_lexer": "ipython3",
   "version": "3.10.4"
  },
  "vscode": {
   "interpreter": {
    "hash": "a86618ae258b4a6ba48fc8c542cba56af6ca05b783b5b0d5a202d4ada61b5be6"
   }
  }
 },
 "nbformat": 4,
 "nbformat_minor": 5
}
